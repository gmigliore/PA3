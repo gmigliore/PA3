{
 "cells": [
  {
   "cell_type": "markdown",
   "id": "7e6796aa",
   "metadata": {},
   "source": [
    "## PA3\n",
    "### Gabe Migliore\n",
    "### Python 3\n",
    "### CS-150-02 Fall 2021"
   ]
  },
  {
   "cell_type": "code",
   "execution_count": 56,
   "id": "b093353e",
   "metadata": {},
   "outputs": [
    {
     "name": "stdout",
     "output_type": "stream",
     "text": [
      "Enter the length of side A: 12\n",
      "Enter the length of side A: 16\n",
      "Enter the length of side A: 21\n",
      "The area of the triangle is approximately 95.4512310030625 square units.\n",
      "The perimeter of the triangle is 49 linear units.\n"
     ]
    }
   ],
   "source": [
    "import math\n",
    "s1=int(input(\"Enter the length of side A: \"))\n",
    "s2=int(input(\"Enter the length of side A: \"))\n",
    "s3=int(input(\"Enter the length of side A: \"))\n",
    "def calcPerimeter(s1,s2,s3):\n",
    "    p=s1+s2+s3\n",
    "    return p\n",
    "def calcArea(s1,s2,s3):\n",
    "    p=(s1+s2+s3)/2\n",
    "    a=math.sqrt(p*(p-s1)*(p-s2)*(p-s3))\n",
    "    return a\n",
    "print(\"The area of the triangle is approximately\", calcArea(s1,s2,s3), \"square units.\")\n",
    "print(\"The perimeter of the triangle is\", calcPerimeter(s1,s2,s3), \"linear units.\")"
   ]
  },
  {
   "cell_type": "code",
   "execution_count": 60,
   "id": "cb411066",
   "metadata": {},
   "outputs": [
    {
     "name": "stdout",
     "output_type": "stream",
     "text": [
      "Enter your guess:4\n",
      "Too Low! Guess again\n",
      "Enter your guess:55\n",
      "Too Low! Guess again\n",
      "Enter your guess:455\n",
      "Too High! Guess again\n",
      "Enter your guess:323\n",
      "Too High! Guess again\n",
      "Enter your guess:300\n",
      "Too Low! Guess again\n",
      "Enter your guess:310\n",
      "Too Low! Guess again\n",
      "Enter your guess:315\n",
      "Too High! Guess again\n",
      "Enter your guess:312\n",
      "Too Low! Guess again\n",
      "Enter your guess:313\n",
      "Correct!\n"
     ]
    }
   ],
   "source": [
    "import random\n",
    "number=random.randint(1,1001)\n",
    "entered=0\n",
    "while entered>number or entered<number:\n",
    "    entered=int(input(\"Enter your guess:\"))\n",
    "    if entered>number:\n",
    "        print(\"Too High! Guess again\")\n",
    "    elif entered<number:\n",
    "        print(\"Too Low! Guess again\")\n",
    "    else:\n",
    "        print(\"Correct!\")"
   ]
  },
  {
   "cell_type": "code",
   "execution_count": 117,
   "id": "23bc99aa",
   "metadata": {},
   "outputs": [
    {
     "name": "stdout",
     "output_type": "stream",
     "text": [
      "The mean temperature for the past 7 days is 71.14285714285714 degrees F.\n",
      "The mean temperature for the past 7 days is 69.0 degrees F.\n",
      "The mean temperature for the past 7 days is 70.0 degrees F.\n"
     ]
    }
   ],
   "source": [
    "def MeanTemps(temps,numDays):\n",
    "    total=0\n",
    "    for x in range((len(temps)-numDays),len(temps)):\n",
    "        total+=temps[x]\n",
    "    mean=total/numDays\n",
    "    return mean\n",
    "Lasttemps=[75,78,85,69,51,63,77]\n",
    "print(\"The mean temperature for the past 7 days is\", MeanTemps(Lasttemps,7), \"degrees F.\")\n",
    "print(\"The mean temperature for the past 7 days is\", MeanTemps(Lasttemps,5), \"degrees F.\")\n",
    "print(\"The mean temperature for the past 7 days is\", MeanTemps(Lasttemps,2), \"degrees F.\")"
   ]
  },
  {
   "cell_type": "code",
   "execution_count": null,
   "id": "bad47023",
   "metadata": {},
   "outputs": [],
   "source": []
  }
 ],
 "metadata": {
  "kernelspec": {
   "display_name": "Python 3",
   "language": "python",
   "name": "python3"
  },
  "language_info": {
   "codemirror_mode": {
    "name": "ipython",
    "version": 3
   },
   "file_extension": ".py",
   "mimetype": "text/x-python",
   "name": "python",
   "nbconvert_exporter": "python",
   "pygments_lexer": "ipython3",
   "version": "3.8.8"
  }
 },
 "nbformat": 4,
 "nbformat_minor": 5
}
